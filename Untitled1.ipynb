{
  "nbformat": 4,
  "nbformat_minor": 0,
  "metadata": {
    "colab": {
      "name": "Untitled1.ipynb",
      "provenance": [],
      "collapsed_sections": [],
      "mount_file_id": "1YFcUi9Sy87CvVjJAXPdN7N_ezzXwoo2L",
      "authorship_tag": "ABX9TyPPPfIgfXtPnH6kmQNswVla",
      "include_colab_link": true
    },
    "kernelspec": {
      "name": "python3",
      "display_name": "Python 3"
    },
    "language_info": {
      "name": "python"
    }
  },
  "cells": [
    {
      "cell_type": "markdown",
      "metadata": {
        "id": "view-in-github",
        "colab_type": "text"
      },
      "source": [
        "<a href=\"https://colab.research.google.com/github/priyadash531/DMDW_LAB_PROGRAM/blob/main/Untitled1.ipynb\" target=\"_parent\"><img src=\"https://colab.research.google.com/assets/colab-badge.svg\" alt=\"Open In Colab\"/></a>"
      ]
    },
    {
      "cell_type": "code",
      "metadata": {
        "colab": {
          "base_uri": "https://localhost:8080/"
        },
        "id": "4K8LQcJQ1J05",
        "outputId": "b659222f-ed21-4610-94e1-8697ccc2460d"
      },
      "source": [
        "lis=[12,35,18,9,6]\n",
        "sum=0\n",
        "for i in lis:\n",
        "  sum=sum+i\n",
        "print(sum)\n",
        "l=len(lis)\n",
        "mean=int(sum/l)\n",
        "print(\"The Mean of the list is given by\",mean)\n",
        "\n",
        "\n",
        "\n"
      ],
      "execution_count": null,
      "outputs": [
        {
          "output_type": "stream",
          "name": "stdout",
          "text": [
            "80\n",
            "The Mean of the list is given by 16\n"
          ]
        }
      ]
    },
    {
      "cell_type": "code",
      "metadata": {
        "colab": {
          "base_uri": "https://localhost:8080/"
        },
        "id": "KflS5QVs2ur5",
        "outputId": "40a2e798-9c88-4837-a6ac-cf98b407b3c4"
      },
      "source": [
        "lis=[12,35,18,9,6]\n",
        "n=len(lis)\n",
        "lis.sort()\n",
        "print(\"After sorting the array will be: \",lis)\n",
        "if(n%2==0):\n",
        "  m1=lis[n//2]\n",
        "  m2=lis[n//2-1]\n",
        "  m=(m1+m2)/2\n",
        "else:\n",
        "  m=lis[n//2]\n",
        "print(\"The Median of the list is given by :\",m)"
      ],
      "execution_count": null,
      "outputs": [
        {
          "output_type": "stream",
          "name": "stdout",
          "text": [
            "After sorting the array will be:  [6, 9, 12, 18, 35]\n",
            "The Median of the list is given by : 12\n"
          ]
        }
      ]
    },
    {
      "cell_type": "code",
      "metadata": {
        "colab": {
          "base_uri": "https://localhost:8080/"
        },
        "id": "GwlW3yc54oSa",
        "outputId": "11df7478-5cfe-42c2-83da-b10a4726d4cc"
      },
      "source": [
        "import statistics\n",
        "lis=[2,3,1,1,6,1,5]\n",
        "k=statistics.mode(lis)\n",
        "print(k)"
      ],
      "execution_count": null,
      "outputs": [
        {
          "output_type": "stream",
          "name": "stdout",
          "text": [
            "1\n"
          ]
        }
      ]
    },
    {
      "cell_type": "code",
      "metadata": {
        "colab": {
          "base_uri": "https://localhost:8080/"
        },
        "id": "JFTX4Ia45RtV",
        "outputId": "153b2002-c8d9-490b-9daf-4bd86b378c9a"
      },
      "source": [
        "lis=[2,3,1,1,6,1,5]\n",
        "freq={}\n",
        "for i in lis:\n",
        "  freq.setdefault(i,0)\n",
        "  freq[i]+=1\n",
        "print(freq)\n",
        "high=max(freq.values())\n",
        "print\n"
      ],
      "execution_count": null,
      "outputs": [
        {
          "output_type": "stream",
          "name": "stdout",
          "text": [
            "{2: 1, 3: 1, 1: 3, 6: 1, 5: 1}\n",
            "3\n"
          ]
        }
      ]
    }
  ]
}