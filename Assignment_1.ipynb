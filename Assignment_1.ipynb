{
  "nbformat": 4,
  "nbformat_minor": 0,
  "metadata": {
    "colab": {
      "name": "Assignment_1.ipynb",
      "provenance": [],
      "mount_file_id": "1XokH3Ca65PC8uZ2ugPD1kutU5KaXO4MC",
      "authorship_tag": "ABX9TyOxBWtzu3zgmxaiz0dFe7u8",
      "include_colab_link": true
    },
    "kernelspec": {
      "name": "python3",
      "display_name": "Python 3"
    },
    "language_info": {
      "name": "python"
    }
  },
  "cells": [
    {
      "cell_type": "markdown",
      "metadata": {
        "id": "view-in-github",
        "colab_type": "text"
      },
      "source": [
        "<a href=\"https://colab.research.google.com/github/priyadash531/DMDW_LAB_PROGRAM/blob/main/Assignment_1.ipynb\" target=\"_parent\"><img src=\"https://colab.research.google.com/assets/colab-badge.svg\" alt=\"Open In Colab\"/></a>"
      ]
    },
    {
      "cell_type": "markdown",
      "metadata": {
        "id": "4nZCyThB8Jwa"
      },
      "source": [
        "1.First create a list in Python (Ex- [12,35,18,9,56,24]). Next find mean and median of the list without using any built-in/Library Functions."
      ]
    },
    {
      "cell_type": "markdown",
      "metadata": {
        "id": "87QqcAb48HNx"
      },
      "source": [
        ""
      ]
    },
    {
      "cell_type": "code",
      "metadata": {
        "colab": {
          "base_uri": "https://localhost:8080/"
        },
        "id": "iGbcBn5j8QZC",
        "outputId": "4745c5bd-01af-420f-f3e9-ede4eb1701aa"
      },
      "source": [
        "lst=[12,35,18,9,56,24]\n",
        "n=len(lst)\n",
        "s=sum(lst)\n",
        "mean=s/n\n",
        "print(\"Mean is:\",mean)\n",
        "lst.sort()\n",
        "if n%2==0:\n",
        "  mid1=lst[n//2]\n",
        "  mid2=lst[n//2-1]\n",
        "  median=(mid1+mid2)/2\n",
        "else:\n",
        "  median=lst[n//2]\n",
        "print(\"Median is:\",median)"
      ],
      "execution_count": 1,
      "outputs": [
        {
          "output_type": "stream",
          "name": "stdout",
          "text": [
            "Mean is: 25.666666666666668\n",
            "Median is: 21.0\n"
          ]
        }
      ]
    },
    {
      "cell_type": "markdown",
      "metadata": {
        "id": "wEEGBPMi8bOF"
      },
      "source": [
        "2. First create a list in python (Ex- [2,3,1,1,6,2,1,5]), next find the mode of the list without using any built-in/library functions.¶"
      ]
    },
    {
      "cell_type": "code",
      "metadata": {
        "colab": {
          "base_uri": "https://localhost:8080/"
        },
        "id": "Le4o3n148htO",
        "outputId": "2f2c2a28-7ed9-4133-f323-198427c93e7d"
      },
      "source": [
        "lst1=[2,3,1,1,6,2,1,5]\n",
        "lst1.sort()\n",
        "lst2=[]\n",
        "res=[]\n",
        "for i in lst1:\n",
        "  lst2.append(lst1.count(i))\n",
        "dic=dict(zip(lst1,lst2))\n",
        "for k,v in dic.items():\n",
        "  if v==max(lst2):\n",
        "    res.append(k)\n",
        "print(\"Mode is:\",res)"
      ],
      "execution_count": 2,
      "outputs": [
        {
          "output_type": "stream",
          "name": "stdout",
          "text": [
            "Mode is: [1]\n"
          ]
        }
      ]
    },
    {
      "cell_type": "markdown",
      "metadata": {
        "id": "F7apnyvD8m5Q"
      },
      "source": [
        "3.First create a list in Python (Ex- [12,35,18,9,56,24]). Next find the second smallest number and second highest number in the list."
      ]
    },
    {
      "cell_type": "code",
      "metadata": {
        "colab": {
          "base_uri": "https://localhost:8080/"
        },
        "id": "yd2D_ME18uRR",
        "outputId": "abc36150-3cd7-4f68-9c0c-39c84576e8b5"
      },
      "source": [
        "lst=[12,35,18,9,56,24]\n",
        "lst.sort()\n",
        "print(\"Second Smallest:\",lst[1])\n",
        "print(\"Second highest:\",lst[-2])"
      ],
      "execution_count": 3,
      "outputs": [
        {
          "output_type": "stream",
          "name": "stdout",
          "text": [
            "Second Smallest: 12\n",
            "Second highest: 35\n"
          ]
        }
      ]
    }
  ]
}