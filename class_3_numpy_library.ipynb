{
  "nbformat": 4,
  "nbformat_minor": 0,
  "metadata": {
    "colab": {
      "name": "class_3_numpy_library.ipynb",
      "provenance": [],
      "collapsed_sections": [],
      "mount_file_id": "1KGwPnygEkgsEGJizWWarikW-564h6nYb",
      "authorship_tag": "ABX9TyPBQ0ey7rHQt0nlKjrU/o0h",
      "include_colab_link": true
    },
    "kernelspec": {
      "name": "python3",
      "display_name": "Python 3"
    },
    "language_info": {
      "name": "python"
    }
  },
  "cells": [
    {
      "cell_type": "markdown",
      "metadata": {
        "id": "view-in-github",
        "colab_type": "text"
      },
      "source": [
        "<a href=\"https://colab.research.google.com/github/priyadash531/DMDW_LAB_PROGRAM/blob/main/class_3_numpy_library.ipynb\" target=\"_parent\"><img src=\"https://colab.research.google.com/assets/colab-badge.svg\" alt=\"Open In Colab\"/></a>"
      ]
    },
    {
      "cell_type": "code",
      "metadata": {
        "colab": {
          "base_uri": "https://localhost:8080/"
        },
        "id": "bstA7RDQ1JTS",
        "outputId": "23984da1-aa2d-4a30-fb46-9a4b8e1562de"
      },
      "source": [
        "#1 D array\n",
        "import numpy as np\n",
        "a=np.array([1,2,3])\n",
        "print(type(a))\n",
        "print(a)"
      ],
      "execution_count": null,
      "outputs": [
        {
          "output_type": "stream",
          "name": "stdout",
          "text": [
            "<class 'numpy.ndarray'>\n",
            "[1 2 3]\n"
          ]
        }
      ]
    },
    {
      "cell_type": "code",
      "metadata": {
        "colab": {
          "base_uri": "https://localhost:8080/"
        },
        "id": "mSfZ5Maq1a6o",
        "outputId": "699556a9-88ee-4c31-c46f-732199a6ae79"
      },
      "source": [
        "#2D array\n",
        "\n",
        "import numpy as np\n",
        "a=np.array([1,2,3])\n",
        "print(type(a))\n",
        "print(a)\n",
        "b=np.array(([1,2],[3,4]))\n",
        "print(b)\n",
        "print(b.shape)\n",
        "print(a.shape)\n",
        "b=np.ones((4,3))\n",
        "print(b)"
      ],
      "execution_count": null,
      "outputs": [
        {
          "output_type": "stream",
          "name": "stdout",
          "text": [
            "<class 'numpy.ndarray'>\n",
            "[1 2 3]\n",
            "[[1 2]\n",
            " [3 4]]\n",
            "(2, 2)\n",
            "(3,)\n",
            "[[1. 1. 1.]\n",
            " [1. 1. 1.]\n",
            " [1. 1. 1.]\n",
            " [1. 1. 1.]]\n"
          ]
        }
      ]
    },
    {
      "cell_type": "code",
      "metadata": {
        "colab": {
          "base_uri": "https://localhost:8080/"
        },
        "id": "AIYehvb33sTg",
        "outputId": "18cb96c0-8166-42bd-c51f-12e541b028dd"
      },
      "source": [
        "import numpy as np\n",
        "a=np.random.random((3,3))\n",
        "print(a)\n",
        "I=np.eye(3)\n",
        "print(I)\n"
      ],
      "execution_count": null,
      "outputs": [
        {
          "output_type": "stream",
          "name": "stdout",
          "text": [
            "[[0.08749301 0.82981016 0.4864038 ]\n",
            " [0.13210117 0.55511287 0.81620364]\n",
            " [0.40795776 0.65548021 0.93544724]]\n",
            "[[1. 0. 0.]\n",
            " [0. 1. 0.]\n",
            " [0. 0. 1.]]\n"
          ]
        }
      ]
    },
    {
      "cell_type": "code",
      "metadata": {
        "colab": {
          "base_uri": "https://localhost:8080/"
        },
        "id": "VqlMv7Fj35pM",
        "outputId": "558daf03-a5c7-4d8f-d3d2-14289ef2f8db"
      },
      "source": [
        "import numpy as np\n",
        "a=np.arange(20)\n",
        "print(a)\n",
        "print(a[1:7:2])\n",
        "print(a[5:15:3])\n",
        "print(a[-1:5:-1])"
      ],
      "execution_count": null,
      "outputs": [
        {
          "output_type": "stream",
          "name": "stdout",
          "text": [
            "[ 0  1  2  3  4  5  6  7  8  9 10 11 12 13 14 15 16 17 18 19]\n",
            "[1 3 5]\n",
            "[ 5  8 11 14]\n",
            "[19 18 17 16 15 14 13 12 11 10  9  8  7  6]\n"
          ]
        }
      ]
    },
    {
      "cell_type": "code",
      "metadata": {
        "colab": {
          "base_uri": "https://localhost:8080/"
        },
        "id": "dkvAkBg84b9b",
        "outputId": "b7241c85-64a6-4d4d-b04f-e01351d31c70"
      },
      "source": [
        "import numpy as np\n",
        "a=np.array([[12,11],[9,7],[5,13]])\n",
        "print(a.shape)\n",
        "print(a>10)"
      ],
      "execution_count": null,
      "outputs": [
        {
          "output_type": "stream",
          "name": "stdout",
          "text": [
            "(3, 2)\n",
            "[[ True  True]\n",
            " [False False]\n",
            " [False  True]]\n"
          ]
        }
      ]
    },
    {
      "cell_type": "code",
      "metadata": {
        "colab": {
          "base_uri": "https://localhost:8080/"
        },
        "id": "fFFyx8Zc6ZJg",
        "outputId": "ab540d2b-8942-42f1-9a8b-2aee23042d33"
      },
      "source": [
        "#numpy array mathematics\n",
        "\n",
        "import numpy as np\n",
        "a=np.array([[12,11],[9,7],[5,13]])\n",
        "b=np.random.random((3,2))\n",
        "print(b)\n",
        "print(a+b)\n",
        "print(a-b)\n",
        "x=np.sum(a)\n",
        "print(x)\n",
        "#0----rowwise 1---column wise\n",
        "y=np.sum(a,axis=0)\n",
        "print(y)\n",
        "z=np.sum(a,axis=1)\n",
        "print(z)\n",
        "\n",
        "print(\"----------------------------------\")\n",
        "#TRANSPOSE\n",
        "print(a)\n",
        "print(\"------------\")\n",
        "print(a.T)\n",
        "\n",
        "#w1x1+w2x2+w3x3=y x is th value and y is the prediction"
      ],
      "execution_count": null,
      "outputs": [
        {
          "output_type": "stream",
          "name": "stdout",
          "text": [
            "[[0.62053807 0.35434383]\n",
            " [0.44896973 0.4838042 ]\n",
            " [0.54873946 0.65868434]]\n",
            "[[12.62053807 11.35434383]\n",
            " [ 9.44896973  7.4838042 ]\n",
            " [ 5.54873946 13.65868434]]\n",
            "[[11.37946193 10.64565617]\n",
            " [ 8.55103027  6.5161958 ]\n",
            " [ 4.45126054 12.34131566]]\n",
            "57\n",
            "[26 31]\n",
            "[23 16 18]\n",
            "----------------------------------\n",
            "[[12 11]\n",
            " [ 9  7]\n",
            " [ 5 13]]\n",
            "------------\n",
            "[[12  9  5]\n",
            " [11  7 13]]\n"
          ]
        }
      ]
    },
    {
      "cell_type": "code",
      "metadata": {
        "colab": {
          "base_uri": "https://localhost:8080/"
        },
        "id": "wMd2kzra7jgs",
        "outputId": "6ea88602-a07b-40ef-a54b-5394bbb2826d"
      },
      "source": [
        "#w1x1+w2x2+w3x3=y x is th value and y is the prediction\n",
        "#Iris data conatins 4 attribute \n",
        "import numpy as np\n",
        "a=np.array([[12,11,15],[9,7,3]])\n",
        "print(a)\n",
        "w=np.array([1.0,1.1])\n",
        "print(w)\n",
        "#print(a+w)\n",
        "#print(a*w)\n",
        "print((a.T + w).T)\n",
        "\n"
      ],
      "execution_count": null,
      "outputs": [
        {
          "output_type": "stream",
          "name": "stdout",
          "text": [
            "[[12 11 15]\n",
            " [ 9  7  3]]\n",
            "[1.  1.1]\n",
            "[[13.  12.  16. ]\n",
            " [10.1  8.1  4.1]]\n"
          ]
        }
      ]
    },
    {
      "cell_type": "code",
      "metadata": {
        "id": "_QlK4t8G-9P4"
      },
      "source": [
        "#cOMPLICATED OPERATIONS\n",
        "import numpy as np\n",
        "\n"
      ],
      "execution_count": null,
      "outputs": []
    },
    {
      "cell_type": "markdown",
      "metadata": {
        "id": "k549sdpZDGs7"
      },
      "source": [
        "1.Minimax normalization for iris data by using 4 attributes\n",
        "2"
      ]
    }
  ]
}